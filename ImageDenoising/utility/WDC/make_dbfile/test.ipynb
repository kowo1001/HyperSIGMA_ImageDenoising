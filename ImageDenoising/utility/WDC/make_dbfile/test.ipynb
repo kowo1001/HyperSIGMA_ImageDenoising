{
 "cells": [
  {
   "cell_type": "code",
   "execution_count": 2,
   "metadata": {},
   "outputs": [
    {
     "ename": "InterfaceError",
     "evalue": "Error binding parameter 0 - probably unsupported type.",
     "output_type": "error",
     "traceback": [
      "\u001b[0;31m---------------------------------------------------------------------------\u001b[0m",
      "\u001b[0;31mInterfaceError\u001b[0m                            Traceback (most recent call last)",
      "\u001b[0;32m/tmp/ipykernel_1201762/4201716231.py\u001b[0m in \u001b[0;36m<module>\u001b[0;34m\u001b[0m\n\u001b[1;32m     31\u001b[0m     \u001b[0;32mif\u001b[0m \u001b[0mdata\u001b[0m\u001b[0;34m.\u001b[0m\u001b[0mndim\u001b[0m \u001b[0;34m==\u001b[0m \u001b[0;36m1\u001b[0m\u001b[0;34m:\u001b[0m\u001b[0;34m\u001b[0m\u001b[0;34m\u001b[0m\u001b[0m\n\u001b[1;32m     32\u001b[0m         \u001b[0mdata\u001b[0m \u001b[0;34m=\u001b[0m \u001b[0mdata\u001b[0m\u001b[0;34m[\u001b[0m\u001b[0;34m:\u001b[0m\u001b[0;34m,\u001b[0m \u001b[0;32mNone\u001b[0m\u001b[0;34m]\u001b[0m  \u001b[0;31m# Convert 1D array to 2D\u001b[0m\u001b[0;34m\u001b[0m\u001b[0;34m\u001b[0m\u001b[0m\n\u001b[0;32m---> 33\u001b[0;31m     \u001b[0mcursor\u001b[0m\u001b[0;34m.\u001b[0m\u001b[0mexecutemany\u001b[0m\u001b[0;34m(\u001b[0m\u001b[0;34mf\"INSERT INTO {table_name} VALUES ({col_placeholders})\"\u001b[0m\u001b[0;34m,\u001b[0m \u001b[0mdata\u001b[0m\u001b[0;34m.\u001b[0m\u001b[0mtolist\u001b[0m\u001b[0;34m(\u001b[0m\u001b[0;34m)\u001b[0m\u001b[0;34m)\u001b[0m\u001b[0;34m\u001b[0m\u001b[0;34m\u001b[0m\u001b[0m\n\u001b[0m\u001b[1;32m     34\u001b[0m \u001b[0;34m\u001b[0m\u001b[0m\n\u001b[1;32m     35\u001b[0m \u001b[0;31m# Commit and close the database\u001b[0m\u001b[0;34m\u001b[0m\u001b[0;34m\u001b[0m\u001b[0m\n",
      "\u001b[0;31mInterfaceError\u001b[0m: Error binding parameter 0 - probably unsupported type."
     ]
    }
   ],
   "source": [
    "import scipy.io\n",
    "import sqlite3\n",
    "\n",
    "# Step 1: Read the .mat file\n",
    "mat_data = scipy.io.loadmat('../train/train_0.mat')\n",
    "\n",
    "# Extract the variable names and data\n",
    "# Assuming the data structure within the .mat file is known and consistent\n",
    "data_keys = [key for key in mat_data.keys() if not key.startswith('__')]\n",
    "data_dict = {key: mat_data[key] for key in data_keys}\n",
    "\n",
    "# Step 2: Create the .db file\n",
    "conn = sqlite3.connect('./wdc.db')\n",
    "cursor = conn.cursor()\n",
    "\n",
    "# Step 3: Create tables and insert data\n",
    "for key, data in data_dict.items():\n",
    "    # Assuming each key corresponds to a different table and data is in 2D array format\n",
    "    table_name = key\n",
    "    cursor.execute(f\"DROP TABLE IF EXISTS {table_name}\")\n",
    "    \n",
    "    # Determine the number of columns\n",
    "    num_cols = data.shape[1] if data.ndim > 1 else 1\n",
    "    col_names = \", \".join([f\"col{i+1}\" for i in range(num_cols)])\n",
    "    col_placeholders = \", \".join([\"?\" for _ in range(num_cols)])\n",
    "    \n",
    "    # Create table\n",
    "    cursor.execute(f\"CREATE TABLE {table_name} ({col_names})\")\n",
    "    \n",
    "    # Insert data\n",
    "    if data.ndim == 1:\n",
    "        data = data[:, None]  # Convert 1D array to 2D\n",
    "    cursor.executemany(f\"INSERT INTO {table_name} VALUES ({col_placeholders})\", data.tolist())\n",
    "\n",
    "# Commit and close the database\n",
    "conn.commit()\n",
    "conn.close()"
   ]
  }
 ],
 "metadata": {
  "kernelspec": {
   "display_name": "base",
   "language": "python",
   "name": "python3"
  },
  "language_info": {
   "codemirror_mode": {
    "name": "ipython",
    "version": 3
   },
   "file_extension": ".py",
   "mimetype": "text/x-python",
   "name": "python",
   "nbconvert_exporter": "python",
   "pygments_lexer": "ipython3",
   "version": "3.9.13"
  }
 },
 "nbformat": 4,
 "nbformat_minor": 2
}
